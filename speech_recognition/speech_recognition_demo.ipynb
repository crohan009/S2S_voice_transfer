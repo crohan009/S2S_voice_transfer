{
 "cells": [
  {
   "cell_type": "code",
   "execution_count": 1,
   "metadata": {},
   "outputs": [
    {
     "name": "stdout",
     "output_type": "stream",
     "text": [
      "speech_recognition version - 3.6.3\n"
     ]
    }
   ],
   "source": [
    "import pyaudio\n",
    "import wave\n",
    "import time\n",
    "import struct\n",
    "import speech_recognition as sr\n",
    "print(\"speech_recognition version - {}\".format(sr.__version__))"
   ]
  },
  {
   "cell_type": "markdown",
   "metadata": {},
   "source": [
    "### Functions for audio clipping, playing, and recording."
   ]
  },
  {
   "cell_type": "code",
   "execution_count": 2,
   "metadata": {},
   "outputs": [],
   "source": [
    "def clip16(x):    \n",
    "    # Clipping for 16 bits\n",
    "    if x > 32767:\n",
    "        x = 32767\n",
    "    elif x < -32768:\n",
    "        x = -32768\n",
    "    else:\n",
    "        x = x        \n",
    "    return int(x)\n",
    "\n",
    "def play_wav(filename):\n",
    "\n",
    "    import wave\n",
    "    import pyaudio\n",
    "    import time\n",
    "\n",
    "    wf = wave.open(filename, 'rb')\n",
    "    CHANNELS = wf.getnchannels()\n",
    "    RATE = wf.getframerate() \n",
    "    WIDTH = wf.getsampwidth() \n",
    "\n",
    "    def my_callback(input_string, block_size, time_info, status):\n",
    "        output_string = wf.readframes(block_size)\n",
    "        return (output_string, pyaudio.paContinue)\n",
    "\n",
    "    p = pyaudio.PyAudio()\n",
    "    stream = p.open(format = p.get_format_from_width(WIDTH),\n",
    "                    channels = CHANNELS,\n",
    "                    rate = RATE,\n",
    "                    input = False,\n",
    "                    output = True,\n",
    "                    stream_callback = my_callback)\n",
    "\n",
    "    print('* Playing audio file: ' + filename)\n",
    "    stream.start_stream()\n",
    "\n",
    "    while stream.is_active():\n",
    "        time.sleep(0.1)\n",
    "\n",
    "    stream.stop_stream()\n",
    "    print('Finished.')\n",
    "    stream.close()\n",
    "\n",
    "    p.terminate()\n",
    "    \n",
    "def record_wav(filename='test_01.wav', CHANNELS = 1, RATE = 16000, WIDTH = 2, GAIN = 1.0):\n",
    "\n",
    "    def my_callback_fun(binary_input_data, block_size, time_info, status):\n",
    "        input_tuple = struct.unpack('h', binary_input_data)\n",
    "        output_sample = clip16(GAIN * input_tuple[0])\n",
    "        output_list.append(output_sample)\n",
    "        return(binary_input_data, pyaudio.paContinue)\n",
    "\n",
    "    p = pyaudio.PyAudio()\n",
    "\n",
    "    # Set PyAudio format\n",
    "    PA_format = p.get_format_from_width(WIDTH)\n",
    "\n",
    "    stream = p.open(format = PA_format,\n",
    "                    channels = CHANNELS,\n",
    "                    rate = RATE,\n",
    "                    input = True,\n",
    "                    output = False,\n",
    "                    frames_per_buffer = 1,\n",
    "                    stream_callback = my_callback_fun)\n",
    "\n",
    "    output_list = []\n",
    "\n",
    "    stream.start_stream()\n",
    "    print('* Start recording')\n",
    "\n",
    "    time.sleep(10.0)\n",
    "\n",
    "    stream.stop_stream()\n",
    "    print('* Finish recording')\n",
    "\n",
    "    stream.close()\n",
    "    p.terminate()\n",
    "\n",
    "    # Convert output signal to binary signal to write to wave file \n",
    "    output_string = struct.pack('h'*len(output_list), *output_list)\n",
    "\n",
    "    # write data into wav file\n",
    "    wf = wave.open(filename, 'w')\n",
    "    wf.setnchannels(CHANNELS)\n",
    "    wf.setsampwidth(WIDTH)\n",
    "    wf.setframerate(RATE)\n",
    "    wf.writeframes(output_string)\n",
    "    wf.close()\n",
    "\n",
    "    print('* Audio saved to file: ' + filename)"
   ]
  },
  {
   "cell_type": "markdown",
   "metadata": {},
   "source": [
    "### Record an audio File"
   ]
  },
  {
   "cell_type": "code",
   "execution_count": 3,
   "metadata": {},
   "outputs": [
    {
     "name": "stdout",
     "output_type": "stream",
     "text": [
      "* Start recording\n",
      "* Finish recording\n",
      "* Audio saved to file: test_01.wav\n"
     ]
    }
   ],
   "source": [
    "filename = 'test_01.wav'\n",
    "record_wav(filename)"
   ]
  },
  {
   "cell_type": "markdown",
   "metadata": {},
   "source": [
    "### Play the file"
   ]
  },
  {
   "cell_type": "code",
   "execution_count": 4,
   "metadata": {},
   "outputs": [
    {
     "name": "stdout",
     "output_type": "stream",
     "text": [
      "* Playing audio file: test_01.wav\n",
      "Finished.\n"
     ]
    }
   ],
   "source": [
    "play_wav(filename)"
   ]
  },
  {
   "cell_type": "markdown",
   "metadata": {},
   "source": [
    "### Run Speech Recognition"
   ]
  },
  {
   "cell_type": "code",
   "execution_count": 10,
   "metadata": {},
   "outputs": [
    {
     "name": "stdout",
     "output_type": "stream",
     "text": [
      "Recognised speech : \n",
      "\n",
      "this is a test audio 1 2 3 check\n",
      "\n",
      "Time taken for speech recognition : 2.824 seconds\n"
     ]
    }
   ],
   "source": [
    "r = sr.Recognizer()\n",
    "test_file = sr.AudioFile(filename)\n",
    "\n",
    "with test_file as source:\n",
    "    audio = r.record(source)\n",
    "# type(audio)\n",
    "\n",
    "start = time.time()\n",
    "text = r.recognize_google(audio)\n",
    "end = time.time()\n",
    "\n",
    "print(\"Recognised speech : \\n\\n{}\".format(text))\n",
    "print(\"\\nTime taken for speech recognition : {} seconds\".format( round(end-start, 3) ))\n",
    "\n",
    "f = open(\"test_01.txt\", \"w\")\n",
    "print(text, file=f)\n",
    "f.close()"
   ]
  },
  {
   "cell_type": "code",
   "execution_count": 9,
   "metadata": {},
   "outputs": [],
   "source": [
    "import ../Taco"
   ]
  },
  {
   "cell_type": "code",
   "execution_count": null,
   "metadata": {},
   "outputs": [],
   "source": []
  }
 ],
 "metadata": {
  "kernelspec": {
   "display_name": "Python 3",
   "language": "python",
   "name": "python3"
  },
  "language_info": {
   "codemirror_mode": {
    "name": "ipython",
    "version": 3
   },
   "file_extension": ".py",
   "mimetype": "text/x-python",
   "name": "python",
   "nbconvert_exporter": "python",
   "pygments_lexer": "ipython3",
   "version": "3.6.3"
  }
 },
 "nbformat": 4,
 "nbformat_minor": 2
}
